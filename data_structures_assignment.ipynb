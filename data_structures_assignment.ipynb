{
  "nbformat": 4,
  "nbformat_minor": 0,
  "metadata": {
    "colab": {
      "provenance": []
    },
    "kernelspec": {
      "name": "python3",
      "display_name": "Python 3"
    },
    "language_info": {
      "name": "python"
    }
  },
  "cells": [
    {
      "cell_type": "markdown",
      "source": [
        "1.What are data structures, and why are they important?\n",
        "\n",
        "-->Data structure is a way of organizing data in computer so that the data can br easily accessed and manipulated.It refers to the logical or mathematical representation of data, as well as the implementation in a computer program.\n",
        "\n",
        "Importance of data structures:\n",
        "\n",
        "Data structures help store and manage data efficiently. They allow programmers to organize data in a way that supports various operations, such as searching, sorting, and updating data quickly and easily. This makes them crucial for developing fast and efficient software.\n",
        "\n",
        "\n",
        "\n",
        "2.Explain the difference between mutable and immutable data types with examples.\n",
        "\n",
        "-->a.Values of a mutable data type can be changed even after its creation.Immutable data types cannot be modified once they are created.\n",
        "\n",
        "b. Mutable data type provides methods like insert,append,item assignment to change values.Immutable data type does not provide any operations to perform data manipulation.\n",
        "\n",
        "c.Elements of any mutable object are slower to access.Elements of immutable objects are quicker to access compared to mutable objects.\n",
        "\n",
        "d.Examples of mutable objects:list,sets,dictionary,etc.\n",
        "\n",
        "Examples of immutable objects:strings,tuples,etc.\n",
        "\n",
        "\n",
        "\n",
        "3.What are the main differences between lists and tuples in Python?\n",
        "\n",
        "-->a.The main difference between lists and tuples is that list are mutable  and tuples are immutable.Lists can be modified after they are created but tuples cannot be created once they are created.\n",
        "\n",
        "b.The list is better for performing operations, such as insertion and deletion.A Tuple data type is appropriate for accessing the elements.\n",
        "\n",
        "c.Lists have several built-in methods.Tuple does not have many built-in methods.\n",
        "\n",
        "\n",
        "d.Unexpected changes and errors are more likely to occur.Because tuples don’t change they are far less error-prone.\n",
        "\n",
        "\n",
        "\n",
        "4.Describe how dictionaries store data.\n",
        "\n",
        "-->Dictionaries store data in key:values pairs.Values can be of any data type and can be duplicated ,whereas keys must be of immutable data type and cannot be duplicated.Dictionaries are odered and case sensitive.\n",
        "\n",
        "syntax:\n",
        "dic_name={key1:value1, key2:value2, key3:value3,...}\n",
        "\n",
        "\n",
        "\n",
        "5.Why might you use a set instead of a list in Python?\n",
        "\n",
        "-->The Python sets are highly useful to efficiently remove duplicate values from a collection like a list and to perform common math operations like unions and intersections which cannot be performed using list.\n",
        "\n",
        "\n",
        "\n",
        "6.What is a string in Python, and how is it different from a list?\n",
        "\n",
        "-->String in python is a collection of characters.strings are always written in single,double or triple quotes.\n",
        "\n",
        "eg.\"hey there.\"\n",
        "   \n",
        "   \"hellow world.\"\n",
        "\n",
        "   The main difference between string and list is that list can store elements of any data type like integers,float,boolean,etc. and strings can store only characters.Lists are mutable but strings are immutable.\n",
        "\n",
        "\n",
        "\n",
        "7.How do tuples ensure data integrity in Python?\n",
        "\n",
        "-->Tuples are immutable and ordered collections of elements that can store values of different data types like integer,string,float,etc.\n",
        "\n",
        "As tuples are immutable,once it is created,its elements cannot be modified which prevents accidental changes in data.Tuples are hashable which allows us to use them as keys in dictionaries and elements in sets.\n",
        "\n",
        "\n",
        "\n",
        "8.What is a hash table, and how does it relate to dictionaries in Python?\n",
        "\n",
        "-->Hash tables are a type of data structure in which the index value of the data element is generated from a hash function. That makes accessing the data faster as the index value behaves as a key for the data value. In other words Hash table stores key-value pairs but the key is generated through a hashing function.\n",
        "\n",
        "The keys of the dictionary are hashable i.e. they are generated by hashing function which generates unique result for each unique value supplied to the hash function.\n",
        "\n",
        "eg.\n",
        "d={\"name\":\"abc\",\"age\":4}\n",
        "print(d[\"name\"])\n",
        "\n",
        "output:\n",
        "\"abc\"\n",
        "\n",
        "\n",
        "\n",
        "9.Can lists contain different data types in Python?\n",
        "\n",
        "-->Yes lists can contain elements of different data types in python.\n",
        "\n",
        "eg.list1=[\"rajesh\",25,4.5,true]\n",
        "\n",
        "\n",
        "\n",
        "10.Explain why strings are immutable in Python.\n",
        "\n",
        "-->The immutability of string is very useful as it helps in hashing, performance optimization, safety and ease of use.Because of immutability of strings it can be used as keys in dictionaries because their hash value remains constant, ensuring that the key-value mapping is consistent.\n",
        "\n",
        "\n",
        "\n",
        "\n",
        "11.What advantages do dictionaries offer over lists for certain tasks?\n",
        "\n",
        "-->Dictionaries are unordered collection of data and perform tasks like searches more efficiently than lists.\n",
        "\n",
        "Dictionaries use hash tables to quickly access values based on keys.\n",
        "\n",
        "Dictionaries have built-in methods for manipulating data, such as get(), keys(), values(), and items().\n",
        "\n",
        "Dictionaries can store any type of data as both the key and the value.\n",
        "\n",
        "Dictionries help with storing and accessing large datasets quickly\n",
        "\n",
        "\n",
        "\n",
        "12.Describe a scenario where using a tuple would be preferable over a list.\n",
        "\n",
        "-->Tuples are immutable while list are mutable.Elements of a tuple cannot be changed once the tuple is created.\n",
        "Therefore tuples can be used to store data which cannot be changed.\n",
        "\n",
        "eg.we can store roll numbers of the students.\n",
        "\n",
        "roll=(1,2,3,4,5,6,7,8,9,10,11,12,,13,14,15)\n",
        "\n",
        "\n",
        "\n",
        "\n",
        "13.How do sets handle duplicate values in Python?\n",
        "\n",
        "-->Sets handle duplicate values using hashing.The set compares the hash value of a new element using hash function.If the hash value of the element is same as the hash value of another element which already exists in the set,the new element is ignored.\n",
        "\n",
        "\n",
        "\n",
        "\n",
        "14.How does the “in” keyword work differently for lists and dictionaries?\n",
        "\n",
        "-->if the \"in\" is ued in lists it  checks if the value exists as an element in the list.\n",
        "\n",
        "eg.list1=[1,2,3]\n",
        "print(1 in list1)\n",
        "\n",
        "\n",
        "When used with a dictionary, the in keyword checks for keys, not values.\n",
        "\n",
        "eg.\n",
        "d={\"name\":\"abc\",\"age\":8}\n",
        "print(\"age\" in d}\n",
        "\n",
        "\n",
        "\n",
        "\n",
        "\n",
        "15.Can you modify the elements of a tuple? Explain why or why not.\n",
        "\n",
        "-->No we cannot modify the elements of a tuple because tuples are immutable.\n",
        "\n",
        "\n",
        "\n",
        "\n",
        "16.What is a nested dictionary, and give an example of its use case?\n",
        "\n",
        "-->When one or more keys of any dictionary have a dictionary as a value then that dictionary is known as nested dictionary.\n",
        "\n",
        "\n",
        "example:\n",
        "\n",
        "A nested dictionary can be used to store information of the students of a class:\n",
        "\n",
        "\n",
        "students={\n",
        "  \"student1\":{\"name\":\"rakesh\",\"roll\":45},\n",
        "  \"student2\":{\"name\":\"mithalt\",\"roll\":46}\n",
        "}\n",
        "\n",
        "\n",
        "\n",
        "17.Describe the time complexity of accessing elements in a dictionary.\n",
        "\n",
        "-->n Python, accessing elements in a dictionary typically has O(1) average time complexity. This means that, in most cases, retrieving a value using a key in a dictionary happens in constant time, regardless of the size of the dictionary.\n",
        "\n",
        "\n",
        "\n",
        "18.In what situations are lists preferred over dictionaries?\n",
        "\n",
        "-->Lists maintain the order of elements that is we can iterate through the elements in a specific order.\n",
        "\n",
        "example:\n",
        "\n",
        "if we need to store a playlist if songs,lists are useful\n",
        "\n",
        "list1=[\"heat waves\",\"ranjhna\",\"baby shark\"]\n",
        "\n",
        "here, if  play the palylist then the first, heat waves, which is at 0th index will start to play ,then all the songs will play in order.\n",
        "\n",
        "\n",
        "\n",
        "19.Why are dictionaries considered unordered, and how does that affect data retrieval?\n",
        "\n",
        "-->Dictionaries in Python are considered unordered because they do not maintain the order in which items are inserted. This means that the keys in a dictionary do not have a guaranteed position.\n",
        "\n",
        " The unordered nature doesn't negatively affect the retrieval of values by their keys. In fact, the hash table structure allows for quick lookups. Since dictionaries are unordered, if you need to maintain or access items in a specific sequence, you cannot rely on the dictionary itself to provide that order.\n",
        "\n",
        "\n",
        "20.Explain the difference between a list and a dictionary in terms of data retrieval.\n",
        "\n",
        "\n",
        "-->a.A list stores items in a sequential order.A dictionary stores data as key-value pairs.\n",
        "\n",
        "b.You retrieve data by its index.You retrieve data by its key.\n",
        "\n",
        "c.Retrieving an element from a list by index is fast.Retrieving a value from a dictionary using its key is very efficient and usually done in constant time (O(1))\n",
        "\n",
        "\n",
        "\n"
      ],
      "metadata": {
        "id": "MDUf3OPbCEK5"
      }
    },
    {
      "cell_type": "markdown",
      "source": [
        "\n",
        "\n",
        "> Add blockquote\n",
        "\n"
      ],
      "metadata": {
        "id": "cpxY0lj5CHrE"
      }
    },
    {
      "cell_type": "code",
      "source": [
        "#1. Write a code to create a string with your name and print it\n",
        "name=input(\"Enter your name:\")\n",
        "print(name)"
      ],
      "metadata": {
        "colab": {
          "base_uri": "https://localhost:8080/"
        },
        "id": "KdHNRJseCLwz",
        "outputId": "a01f267b-ff5e-49f3-9347-5efd750e5090"
      },
      "execution_count": null,
      "outputs": [
        {
          "output_type": "stream",
          "name": "stdout",
          "text": [
            "Enter your name:mrudula patil\n",
            "mrudula patil\n"
          ]
        }
      ]
    },
    {
      "cell_type": "code",
      "source": [
        "#2.Write a code to find the length of the string \"Hello World\"\n",
        "word=\"Hello World\"\n",
        "l=len(word)\n",
        "print(f\"The lenght of the above string is '{l}'\")\n"
      ],
      "metadata": {
        "colab": {
          "base_uri": "https://localhost:8080/"
        },
        "id": "TQOkZzC3CyPq",
        "outputId": "cac4d3bd-0c91-427a-a50f-32dd23f0b656"
      },
      "execution_count": null,
      "outputs": [
        {
          "output_type": "stream",
          "name": "stdout",
          "text": [
            "The lenght of the above string is '11'\n"
          ]
        }
      ]
    },
    {
      "cell_type": "code",
      "source": [
        "#3.Write a code to slice the first 3 characters from the string \"Python Programming\"\n",
        "w=\"Python Programming\"\n",
        "s=w[:3]\n",
        "print(s)"
      ],
      "metadata": {
        "colab": {
          "base_uri": "https://localhost:8080/"
        },
        "id": "2_i2_pj4DzXo",
        "outputId": "4bfdaeb7-7adb-4f01-8c27-5d5b9ca39521"
      },
      "execution_count": null,
      "outputs": [
        {
          "output_type": "stream",
          "name": "stdout",
          "text": [
            "Pyt\n"
          ]
        }
      ]
    },
    {
      "cell_type": "code",
      "source": [
        "#4. Write a code to convert the string \"hello\" to uppercase\n",
        "low=\"hello\"\n",
        "print(low)\n",
        "up=low.upper()\n",
        "print(up)"
      ],
      "metadata": {
        "colab": {
          "base_uri": "https://localhost:8080/"
        },
        "id": "XvNmRAk2EUdS",
        "outputId": "0c60f4df-7d67-4678-f7e0-c7ff5f46fb44"
      },
      "execution_count": null,
      "outputs": [
        {
          "output_type": "stream",
          "name": "stdout",
          "text": [
            "hello\n",
            "HELLO\n"
          ]
        }
      ]
    },
    {
      "cell_type": "code",
      "source": [
        "#5.Write a code to replace the word \"apple\" with \"orange\" in the string \"I like apple\n",
        "m=\"I like apple\"\n",
        "print(m)\n",
        "n=m.replace(\"apple\",\"orange\")\n",
        "print(n)\n",
        "\n"
      ],
      "metadata": {
        "colab": {
          "base_uri": "https://localhost:8080/"
        },
        "id": "OjJmNl0ZFGA5",
        "outputId": "d9311b23-727f-4416-9bd3-9e001aa05cd1"
      },
      "execution_count": null,
      "outputs": [
        {
          "output_type": "stream",
          "name": "stdout",
          "text": [
            "I like apple\n",
            "I like orange\n"
          ]
        }
      ]
    },
    {
      "cell_type": "code",
      "source": [
        "#6. Write a code to create a list with numbers 1 to 5 and print it\n",
        "list1=[]\n",
        "for i in range(1,6):\n",
        "  list1.append(i)\n",
        "print(list1)"
      ],
      "metadata": {
        "colab": {
          "base_uri": "https://localhost:8080/"
        },
        "id": "6kBCnfDM5x0r",
        "outputId": "7cb02fe7-5cf5-43e9-dd58-23e281141c55"
      },
      "execution_count": null,
      "outputs": [
        {
          "output_type": "stream",
          "name": "stdout",
          "text": [
            "[1, 2, 3, 4, 5]\n"
          ]
        }
      ]
    },
    {
      "cell_type": "code",
      "source": [
        "#7. Write a code to append the number 10 to the list [1, 2, 3, 4]\n",
        "list2=[1,2,3,4]\n",
        "print(list2)\n",
        "list2.append(10)\n",
        "print(list2)"
      ],
      "metadata": {
        "colab": {
          "base_uri": "https://localhost:8080/"
        },
        "id": "pNp1atOc6TU9",
        "outputId": "879bde7f-32c5-4b62-cfbe-95aa42481a5d"
      },
      "execution_count": null,
      "outputs": [
        {
          "output_type": "stream",
          "name": "stdout",
          "text": [
            "[1, 2, 3, 4]\n",
            "[1, 2, 3, 4, 10]\n"
          ]
        }
      ]
    },
    {
      "cell_type": "code",
      "source": [
        "#8. Write a code to remove the number 3 from the list [1, 2, 3, 4, 5]\n",
        "list3=[1,2,3,4,5]\n",
        "print(list3)\n",
        "list3.remove(3)\n",
        "print(list3)"
      ],
      "metadata": {
        "colab": {
          "base_uri": "https://localhost:8080/"
        },
        "id": "XpTJLMBe6s_z",
        "outputId": "989565af-6972-484f-ec00-bb1244199df7"
      },
      "execution_count": null,
      "outputs": [
        {
          "output_type": "stream",
          "name": "stdout",
          "text": [
            "[1, 2, 3, 4, 5]\n",
            "[1, 2, 4, 5]\n"
          ]
        }
      ]
    },
    {
      "cell_type": "code",
      "source": [
        "#9.Write a code to access the second element in the list ['a', 'b', 'c', 'd']\n",
        "list4=[\"a\",\"b\",\"c\",\"d\"]\n",
        "print(list4[1])"
      ],
      "metadata": {
        "colab": {
          "base_uri": "https://localhost:8080/"
        },
        "id": "efFjc1Mt7JxF",
        "outputId": "56054096-0a61-4b8f-fc78-28ffcf1af1aa"
      },
      "execution_count": null,
      "outputs": [
        {
          "output_type": "stream",
          "name": "stdout",
          "text": [
            "b\n"
          ]
        }
      ]
    },
    {
      "cell_type": "code",
      "source": [
        "#10.Write a code to reverse the list [10, 20, 30, 40, 50]\n",
        "list5=[10,20,30,40,50]\n",
        "print(list5)\n",
        "list5.reverse()\n",
        "print(list5)\n",
        "\n"
      ],
      "metadata": {
        "colab": {
          "base_uri": "https://localhost:8080/"
        },
        "id": "DOJmkP_J7wJk",
        "outputId": "3668ca29-471a-4f3e-ee5b-cb371beb4e47"
      },
      "execution_count": null,
      "outputs": [
        {
          "output_type": "stream",
          "name": "stdout",
          "text": [
            "[10, 20, 30, 40, 50]\n",
            "[50, 40, 30, 20, 10]\n"
          ]
        }
      ]
    }
  ]
}